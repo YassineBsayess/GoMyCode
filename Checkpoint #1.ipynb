{
 "cells": [
  {
   "cell_type": "code",
   "execution_count": 33,
   "id": "0f2aeb64",
   "metadata": {},
   "outputs": [
    {
     "name": "stdout",
     "output_type": "stream",
     "text": [
      "Please input your first name: Yassine\n",
      "Please input your last name: Bessaies\n",
      "enissaY seiasseB\n"
     ]
    }
   ],
   "source": [
    "First_Name = str(input(\"Please input your first name: \"))\n",
    "Last_Name = str(input(\"Please input your last name: \"))\n",
    "\n",
    "print(First_Name[::-1], Last_Name[::-1])"
   ]
  },
  {
   "cell_type": "code",
   "execution_count": 34,
   "id": "bf7177a4",
   "metadata": {},
   "outputs": [
    {
     "name": "stdout",
     "output_type": "stream",
     "text": [
      "615\n"
     ]
    }
   ],
   "source": [
    "a=int(5)\n",
    "n1=a\n",
    "n2=a*11\n",
    "n3=a*111\n",
    "print(n1+n2+n3)"
   ]
  },
  {
   "cell_type": "code",
   "execution_count": 35,
   "id": "6e28ed3a",
   "metadata": {},
   "outputs": [
    {
     "name": "stdout",
     "output_type": "stream",
     "text": [
      "Please input a number: 5\n",
      "5 is an odd number\n"
     ]
    }
   ],
   "source": [
    "a=int(input(\"Please input a number: \"))\n",
    "if a%2 == 0:\n",
    "    print(a,\"is an even number\")\n",
    "else:\n",
    "    print(a,\"is an odd number\")\n",
    "    "
   ]
  },
  {
   "cell_type": "code",
   "execution_count": null,
   "id": "27e57908",
   "metadata": {},
   "outputs": [],
   "source": [
    "for i in range(2000,3200):\n",
    "    if i%7==0 and i%5 !=0:\n",
    "        print(i, end=\", \")"
   ]
  },
  {
   "cell_type": "code",
   "execution_count": 54,
   "id": "0f53f92b",
   "metadata": {},
   "outputs": [
    {
     "name": "stdout",
     "output_type": "stream",
     "text": [
      "Input x: 7\n",
      "The factorial of 7 is 5040\n"
     ]
    }
   ],
   "source": [
    "x=int(input(\"Input x: \"))\n",
    "while True:\n",
    "    if x>0:\n",
    "        break\n",
    "    if x<0:\n",
    "        print(\"x has to be positive\")\n",
    "        break\n",
    "fact=1\n",
    "for i in range(1,x + 1):\n",
    "       fact = fact*i\n",
    "print(\"The factorial of\",x,\"is\",fact)"
   ]
  },
  {
   "cell_type": "code",
   "execution_count": 74,
   "id": "3029eaa7",
   "metadata": {},
   "outputs": [
    {
     "name": "stdout",
     "output_type": "stream",
     "text": [
      "HloTa\n",
      "HloTa\n",
      "HloTa\n",
      "HloTa\n",
      "HloTa\n"
     ]
    }
   ],
   "source": [
    "text = \"Hello Team\"\n",
    "print(text[0::2])\n",
    "    "
   ]
  },
  {
   "cell_type": "code",
   "execution_count": 78,
   "id": "6e004abe",
   "metadata": {},
   "outputs": [
    {
     "name": "stdout",
     "output_type": "stream",
     "text": [
      "Please input your price: 250\n",
      "75\n"
     ]
    }
   ],
   "source": [
    "price = int(input(\"Please input your price: \"))\n",
    "if price >= 500:\n",
    "    price=(price*50)/100\n",
    "elif 200 <= price < 500:\n",
    "    price = (price *30) /100\n",
    "else:\n",
    "    price = (price*20)/100\n",
    "print(int(price))"
   ]
  }
 ],
 "metadata": {
  "kernelspec": {
   "display_name": "Python 3",
   "language": "python",
   "name": "python3"
  }
 },
 "nbformat": 4,
 "nbformat_minor": 5
}
