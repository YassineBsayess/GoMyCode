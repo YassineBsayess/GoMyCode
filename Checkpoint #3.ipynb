{
 "cells": [
  {
   "cell_type": "code",
   "execution_count": 4,
   "id": "3c4c5e69",
   "metadata": {},
   "outputs": [
    {
     "data": {
      "text/plain": [
       "35"
      ]
     },
     "execution_count": 4,
     "metadata": {},
     "output_type": "execute_result"
    }
   ],
   "source": [
    "def maxi(a,b,c):\n",
    "    if a>b and a>c:\n",
    "        maximum = a\n",
    "    elif b>a and b>c:\n",
    "        maximum = b\n",
    "    elif c>a and c>b:\n",
    "        maximum = c\n",
    "    return maximum\n",
    "a=20\n",
    "b=35\n",
    "c=19\n",
    "maxi(a,b,c)\n",
    "    "
   ]
  },
  {
   "cell_type": "code",
   "execution_count": 8,
   "id": "c277e31e",
   "metadata": {},
   "outputs": [
    {
     "data": {
      "text/plain": [
       "(50, 30)"
      ]
     },
     "execution_count": 8,
     "metadata": {},
     "output_type": "execute_result"
    }
   ],
   "source": [
    "def calcul(a,b):\n",
    "    result=a+b,a-b\n",
    "    return result\n",
    "calcul(40,10)\n",
    "    "
   ]
  },
  {
   "cell_type": "code",
   "execution_count": 23,
   "id": "a571382f",
   "metadata": {},
   "outputs": [
    {
     "data": {
      "text/plain": [
       "45"
      ]
     },
     "execution_count": 23,
     "metadata": {},
     "output_type": "execute_result"
    }
   ],
   "source": [
    "def slist(lst):\n",
    "    Sum=sum(lst)\n",
    "    return Sum\n",
    "lst=[1,2,3,4,5,6,7,8,9]\n",
    "slist(lst)"
   ]
  },
  {
   "cell_type": "code",
   "execution_count": 25,
   "id": "066f2f59",
   "metadata": {},
   "outputs": [
    {
     "data": {
      "text/plain": [
       "335221286400"
      ]
     },
     "execution_count": 25,
     "metadata": {},
     "output_type": "execute_result"
    }
   ],
   "source": [
    "lst1=[10,11,12,13,14,15,16,17,18,19]\n",
    "def mlist(lst1):\n",
    "    result = 1\n",
    "    for x in lst1:\n",
    "        result = result * x\n",
    "    return result\n",
    "mlist(lst1)"
   ]
  },
  {
   "cell_type": "code",
   "execution_count": 39,
   "id": "1f1077ac",
   "metadata": {},
   "outputs": [
    {
     "data": {
      "text/plain": [
       "(9, 48)"
      ]
     },
     "execution_count": 39,
     "metadata": {},
     "output_type": "execute_result"
    }
   ],
   "source": [
    "L1=[]\n",
    "L2=[]\n",
    "def function(L):\n",
    "    for i in range(len(L)):\n",
    "        if (i%2==0):\n",
    "            L1.append(L[i])\n",
    "        else: \n",
    "            L2.append(L[i])\n",
    "    x=slist(L1)\n",
    "    y=mlist(L2)\n",
    "    return (x,y)\n",
    "L=[1,2,3,4,5,6]\n",
    "function(L)\n",
    "        \n",
    "    "
   ]
  },
  {
   "cell_type": "code",
   "execution_count": 5,
   "id": "91647a0d",
   "metadata": {},
   "outputs": [
    {
     "name": "stdout",
     "output_type": "stream",
     "text": [
      "black-green-red-white-yellow\n"
     ]
    }
   ],
   "source": [
    "n='green-red-yellow-black-white'\n",
    "def hyphen(n):\n",
    "    items=[i for i in n.split('-')]\n",
    "    items.sort()\n",
    "    print('-'.join(items))\n",
    "hyphen(n)"
   ]
  },
  {
   "cell_type": "code",
   "execution_count": 23,
   "id": "3cc140d3",
   "metadata": {},
   "outputs": [
    {
     "name": "stdout",
     "output_type": "stream",
     "text": [
      "Input your number: 100,150,180\n",
      "18,22,24,"
     ]
    }
   ],
   "source": [
    "import math\n",
    "def sqrt():\n",
    "    c=50\n",
    "    h=30\n",
    "    d=input(\"Input your number: \").split(',')\n",
    "    for i in range(0, len(d)):\n",
    "        x=int(d[i])\n",
    "        y=math.sqrt(2*c*x)\n",
    "        q=y/math.sqrt(h)\n",
    "        q=math.floor(q)\n",
    "        print(q, end=',')\n",
    "sqrt()"
   ]
  },
  {
   "cell_type": "code",
   "execution_count": null,
   "id": "0a0ccff5",
   "metadata": {},
   "outputs": [],
   "source": []
  },
  {
   "cell_type": "code",
   "execution_count": null,
   "id": "64f23df2",
   "metadata": {},
   "outputs": [],
   "source": []
  }
 ],
 "metadata": {
  "kernelspec": {
   "display_name": "Python 3",
   "language": "python",
   "name": "python3"
  },
  "language_info": {
   "codemirror_mode": {
    "name": "ipython",
    "version": 3
   },
   "file_extension": ".py",
   "mimetype": "text/x-python",
   "name": "python",
   "nbconvert_exporter": "python",
   "pygments_lexer": "ipython3",
   "version": "3.8.8"
  }
 },
 "nbformat": 4,
 "nbformat_minor": 5
}
