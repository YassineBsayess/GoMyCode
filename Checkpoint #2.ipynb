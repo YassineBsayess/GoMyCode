{
 "cells": [
  {
   "cell_type": "code",
   "execution_count": 16,
   "id": "7dd0bf81",
   "metadata": {},
   "outputs": [
    {
     "name": "stdout",
     "output_type": "stream",
     "text": [
      "36\n"
     ]
    }
   ],
   "source": [
    "list=[2,3,6]\n",
    "for i in range(len(list)):\n",
    "    result = list[i]*list[i]\n",
    "print(result)"
   ]
  },
  {
   "cell_type": "code",
   "execution_count": 26,
   "id": "f1c182fb",
   "metadata": {},
   "outputs": [
    {
     "name": "stdout",
     "output_type": "stream",
     "text": [
      "[(2, 1), (1, 2), (2, 3), (4, 4), (2, 5)]\n"
     ]
    }
   ],
   "source": [
    "sec_list = [(2, 5), (4, 4), (1, 2), (2, 3), (2, 1)]\n",
    "#[(2, 1), (1, 2), (2, 3), (4, 4), (2, 5)]\n",
    "sec_list.sort(key = lambda y:y[1])\n",
    "print(sec_list)"
   ]
  },
  {
   "cell_type": "code",
   "execution_count": 65,
   "id": "43945749",
   "metadata": {},
   "outputs": [
    {
     "name": "stdout",
     "output_type": "stream",
     "text": [
      "{'a': 400, 'b': 400}\n"
     ]
    }
   ],
   "source": [
    "d1 = {'a': 100, 'b': 200, 'c':300}\n",
    "d2 = {'a': 300, 'b': 200, 'd':400}\n",
    "d={}\n",
    "for i,j in d1.items():\n",
    "    for x,y in d2.items():\n",
    "        if ( i == x ):\n",
    "            d[i] = ( j + y )\n",
    "print(d)\n"
   ]
  },
  {
   "cell_type": "code",
   "execution_count": 70,
   "id": "1a431652",
   "metadata": {},
   "outputs": [
    {
     "name": "stdout",
     "output_type": "stream",
     "text": [
      "Input n: 8\n",
      "{1: 64, 2: 64, 3: 64, 4: 64, 5: 64, 6: 64, 7: 64, 8: 64}\n"
     ]
    }
   ],
   "source": [
    "n=int(input(\"Input n: \"))\n",
    "d = dict()\n",
    "\n",
    "for i in range(1,n+1):\n",
    "    d[i]=x*x\n",
    "\n",
    "print(d) "
   ]
  },
  {
   "cell_type": "code",
   "execution_count": 71,
   "id": "baa06c1e",
   "metadata": {},
   "outputs": [
    {
     "name": "stdout",
     "output_type": "stream",
     "text": [
      "[('item3', '24.5'), ('item2', '15.10'), ('item1', '12.20')]\n"
     ]
    }
   ],
   "source": [
    "third_list = [('item1','12.20'), ('item2', '15.10'),('item3', '24.5')]\n",
    "print( sorted(third_list, key=lambda x: float(x[1]), reverse=True))\n"
   ]
  },
  {
   "cell_type": "code",
   "execution_count": null,
   "id": "f96a82a8",
   "metadata": {},
   "outputs": [],
   "source": []
  }
 ],
 "metadata": {
  "kernelspec": {
   "display_name": "Python 3",
   "language": "python",
   "name": "python3"
  },
  "language_info": {
   "codemirror_mode": {
    "name": "ipython",
    "version": 3
   },
   "file_extension": ".py",
   "mimetype": "text/x-python",
   "name": "python",
   "nbconvert_exporter": "python",
   "pygments_lexer": "ipython3",
   "version": "3.8.8"
  }
 },
 "nbformat": 4,
 "nbformat_minor": 5
}
